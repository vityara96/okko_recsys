{
 "cells": [
  {
   "cell_type": "code",
   "execution_count": 1,
   "metadata": {},
   "outputs": [],
   "source": [
    "import pandas as pd\n",
    "import numpy as np\n",
    "import os\n",
    "import sys\n",
    "import matplotlib.pyplot as plt\n",
    "import seaborn as sns\n",
    "import json"
   ]
  },
  {
   "cell_type": "code",
   "execution_count": 2,
   "metadata": {},
   "outputs": [],
   "source": [
    "from pyspark.sql import SparkSession\n",
    "from pyspark import SparkContext\n",
    "import  pyspark.sql.functions as F\n",
    "from pyspark.ml.evaluation import RegressionEvaluator\n",
    "from pyspark.ml.recommendation import ALS\n",
    "from pyspark.sql.types import ArrayType, IntegerType, StructType, StructField, StringType\n",
    "from pyspark.sql import Window"
   ]
  },
  {
   "cell_type": "code",
   "execution_count": 3,
   "metadata": {},
   "outputs": [],
   "source": [
    "transactions_data_path = \"../data/transactions.csv\"\n",
    "catalogue_path = \"../data/catalogue.json\"\n",
    "test_path = \"../data/test_users.json\"\n",
    "ratings_path = \"../data/ratings.csv\"\n",
    "bookmarks_path = \"../data/bookmarks.csv\""
   ]
  },
  {
   "cell_type": "code",
   "execution_count": 4,
   "metadata": {},
   "outputs": [],
   "source": [
    "spark = SparkSession.builder \\\n",
    "            .appName(\"geneRating\") \\\n",
    "            .getOrCreate()"
   ]
  },
  {
   "cell_type": "markdown",
   "metadata": {},
   "source": [
    "### Bookmarks exploration"
   ]
  },
  {
   "cell_type": "code",
   "execution_count": 5,
   "metadata": {},
   "outputs": [],
   "source": [
    "bm_df = spark.read.csv(bookmarks_path, header=True)"
   ]
  },
  {
   "cell_type": "code",
   "execution_count": 6,
   "metadata": {},
   "outputs": [],
   "source": [
    "bm_df = bm_df.withColumn(\"bookmark\", F.lit(1))"
   ]
  },
  {
   "cell_type": "markdown",
   "metadata": {},
   "source": [
    "### Transactions exploration"
   ]
  },
  {
   "cell_type": "markdown",
   "metadata": {},
   "source": [
    "Загружаем данные по транзакциям"
   ]
  },
  {
   "cell_type": "code",
   "execution_count": 7,
   "metadata": {},
   "outputs": [],
   "source": [
    "tr_df = spark.read.csv(transactions_data_path, header=True)"
   ]
  },
  {
   "cell_type": "markdown",
   "metadata": {},
   "source": [
    "### Загружаем каталог"
   ]
  },
  {
   "cell_type": "code",
   "execution_count": 8,
   "metadata": {},
   "outputs": [],
   "source": [
    "with open(catalogue_path, \"r\") as f:\n",
    "    cat_df = json.load(f)\n",
    "\n",
    "cat_df = pd.DataFrame.from_dict(cat_df, orient='index')\n",
    "\n",
    "cat_df = cat_df.reset_index()\n",
    "\n",
    "cat_df.columns = ['element_uid'] + list(cat_df.columns[1:])\n",
    "\n",
    "cat_df.element_uid = cat_df.element_uid.astype('int64')"
   ]
  },
  {
   "cell_type": "code",
   "execution_count": 9,
   "metadata": {},
   "outputs": [],
   "source": [
    "catalogue = spark.createDataFrame(cat_df)"
   ]
  },
  {
   "cell_type": "markdown",
   "metadata": {},
   "source": [
    "### Data preprocessing"
   ]
  },
  {
   "cell_type": "markdown",
   "metadata": {},
   "source": [
    "Добавляем к транзакциям информацию о фильме и выбрасываем транзакции по фильмам, по которым нет информации."
   ]
  },
  {
   "cell_type": "code",
   "execution_count": 10,
   "metadata": {},
   "outputs": [
    {
     "data": {
      "text/plain": [
       "9643012"
      ]
     },
     "execution_count": 10,
     "metadata": {},
     "output_type": "execute_result"
    }
   ],
   "source": [
    "tr_df.count()"
   ]
  },
  {
   "cell_type": "code",
   "execution_count": 11,
   "metadata": {},
   "outputs": [
    {
     "name": "stdout",
     "output_type": "stream",
     "text": [
      "+-----------+--------+----------------+------------------+------------+-----------+-------------------+\n",
      "|element_uid|user_uid|consumption_mode|                ts|watched_time|device_type|device_manufacturer|\n",
      "+-----------+--------+----------------+------------------+------------+-----------+-------------------+\n",
      "|       3336|    5177|               S|44305181.218020596|        4282|          0|                 50|\n",
      "|        481|  593316|               S|44305180.606027626|        2989|          0|                 11|\n",
      "|       4128|  262355|               S| 44305180.41444582|         833|          0|                 50|\n",
      "|       6272|   74296|               S|44305180.202782735|        2530|          0|                 99|\n",
      "|       5543|  340623|               P|44305179.556133375|        6282|          0|                 50|\n",
      "+-----------+--------+----------------+------------------+------------+-----------+-------------------+\n",
      "only showing top 5 rows\n",
      "\n"
     ]
    }
   ],
   "source": [
    "tr_df.show(5)"
   ]
  },
  {
   "cell_type": "markdown",
   "metadata": {},
   "source": [
    "Будем использовать только информацию о типе фильма и о его длительности"
   ]
  },
  {
   "cell_type": "code",
   "execution_count": 10,
   "metadata": {},
   "outputs": [],
   "source": [
    "catalogue = catalogue.select(['element_uid', 'type', 'duration'])"
   ]
  },
  {
   "cell_type": "code",
   "execution_count": 11,
   "metadata": {},
   "outputs": [],
   "source": [
    "df = tr_df.join(catalogue, on='element_uid', how='inner')"
   ]
  },
  {
   "cell_type": "markdown",
   "metadata": {},
   "source": [
    "Видим, что транзакций по неизвестным фильмам нет"
   ]
  },
  {
   "cell_type": "code",
   "execution_count": 12,
   "metadata": {},
   "outputs": [],
   "source": [
    "df = df.withColumn(\"watched_time\", F.col(\"watched_time\")/60)"
   ]
  },
  {
   "cell_type": "markdown",
   "metadata": {},
   "source": [
    "Заметим, что 1% представленного каталога имеет длительность фильма = 0"
   ]
  },
  {
   "cell_type": "code",
   "execution_count": 17,
   "metadata": {},
   "outputs": [
    {
     "data": {
      "text/plain": [
       "1.1176470588235294"
      ]
     },
     "execution_count": 17,
     "metadata": {},
     "output_type": "execute_result"
    }
   ],
   "source": [
    "catalogue.where(catalogue['duration'] == 0).count() / catalogue.count() * 100"
   ]
  },
  {
   "cell_type": "markdown",
   "metadata": {},
   "source": [
    "Заменим эту длительность на 75%й квантиль времени просмотра этих фильмов"
   ]
  },
  {
   "cell_type": "markdown",
   "metadata": {},
   "source": [
    "Так как неизвестно, сколько частей в многосерийном фильме и сериале, для каждого такого фильма и сериала посчитаем 75-квантиль и возьмем его за длительность фильма/сериала. Предварительно переведем длительность просмотра в минуты."
   ]
  },
  {
   "cell_type": "code",
   "execution_count": 13,
   "metadata": {},
   "outputs": [],
   "source": [
    "quantiles = df.filter((df['type'] == \"multipart_movie\") | (df['type'] == \"series\") | (df['duration'] == 0))\\\n",
    "    .groupBy('element_uid').agg(F.expr(\"percentile_approx(watched_time, 0.75)\").alias('true_duration'))"
   ]
  },
  {
   "cell_type": "code",
   "execution_count": 14,
   "metadata": {},
   "outputs": [],
   "source": [
    "df = df.join(quantiles, on=\"element_uid\", how=\"left\")"
   ]
  },
  {
   "cell_type": "code",
   "execution_count": 15,
   "metadata": {},
   "outputs": [],
   "source": [
    "df = df.withColumn(\"true_duration\", F.coalesce(\"true_duration\", \"duration\"))"
   ]
  },
  {
   "cell_type": "markdown",
   "metadata": {},
   "source": [
    "Добавим колонку с информацией о том, какую часть фильма посмотрел пользователь, предварительно удалив записи, по которым неизвестна длительность просмотра (около 100к)"
   ]
  },
  {
   "cell_type": "code",
   "execution_count": 16,
   "metadata": {},
   "outputs": [],
   "source": [
    "df = df.where(df['watched_time'].isNotNull())\\\n",
    "    .withColumn(\"watch_part\", F.col('watched_time') / F.col('true_duration'))"
   ]
  },
  {
   "cell_type": "markdown",
   "metadata": {},
   "source": [
    "Посмотрим, какую часть всех фильмов составляют фильмы с watch_part > 1"
   ]
  },
  {
   "cell_type": "code",
   "execution_count": 17,
   "metadata": {},
   "outputs": [
    {
     "name": "stdout",
     "output_type": "stream",
     "text": [
      "Multiwatch films are 28.20763860676843 perc\n"
     ]
    }
   ],
   "source": [
    "multiwatch_films = df.where((df['type'] == 'movie') & (df['watch_part'] > 1))\n",
    "films = df.where(df['type'] == 'movie')\n",
    "\n",
    "print(f\"Multiwatch films are {multiwatch_films.count()/films.count() * 100} perc\")"
   ]
  },
  {
   "cell_type": "markdown",
   "metadata": {},
   "source": [
    "Считаем, что если длительность просмотра > 1,то пользователь просмотрел фильм/сериал несколько раз. Пока не будем это учитывать и заменим зачение на 1"
   ]
  },
  {
   "cell_type": "code",
   "execution_count": 18,
   "metadata": {},
   "outputs": [],
   "source": [
    "# multiwatch strategy\n",
    "df = df.withColumn(\"true_watch_part\", F.when(df['watch_part'] > 12.0, 3.0)\\\n",
    "                                       .when(df['watch_part'] > 1.0, 1.0 + (df['watch_part'] / 6.0))\n",
    "                                       .otherwise(F.col(\"watch_part\")))"
   ]
  },
  {
   "cell_type": "markdown",
   "metadata": {},
   "source": [
    "### Ratings"
   ]
  },
  {
   "cell_type": "code",
   "execution_count": 20,
   "metadata": {},
   "outputs": [],
   "source": [
    "ratings_df = spark.read.csv(ratings_path, header=True)"
   ]
  },
  {
   "cell_type": "code",
   "execution_count": 21,
   "metadata": {},
   "outputs": [
    {
     "name": "stdout",
     "output_type": "stream",
     "text": [
      "+--------+-----------+------+------------------+\n",
      "|user_uid|element_uid|rating|                ts|\n",
      "+--------+-----------+------+------------------+\n",
      "|  571252|       1364|    10| 44305174.26309871|\n",
      "|   63140|       3037|    10|44305139.282818206|\n",
      "|  443817|       4363|     8| 44305136.20584908|\n",
      "|  359870|       1364|    10| 44305063.00637321|\n",
      "|  359870|       3578|     9| 44305060.73913281|\n",
      "+--------+-----------+------+------------------+\n",
      "only showing top 5 rows\n",
      "\n"
     ]
    }
   ],
   "source": [
    "ratings_df.show(5)"
   ]
  },
  {
   "cell_type": "code",
   "execution_count": 22,
   "metadata": {},
   "outputs": [],
   "source": [
    "df = df.join(ratings_df.select(['user_uid', 'element_uid', 'rating']),\n",
    "             on=['user_uid', 'element_uid'], how='left')\\\n",
    "        .join(bm_df.select(['user_uid', 'element_uid', 'bookmark']),\n",
    "             on=['user_uid', 'element_uid'], how='left')"
   ]
  },
  {
   "cell_type": "code",
   "execution_count": 23,
   "metadata": {},
   "outputs": [],
   "source": [
    "df = df.fillna(0, subset=[\"bookmark\"])"
   ]
  },
  {
   "cell_type": "code",
   "execution_count": 24,
   "metadata": {},
   "outputs": [],
   "source": [
    "df = df.select([\n",
    "    'user_uid',\n",
    "    'element_uid',\n",
    "    'consumption_mode',\n",
    "    'ts',\n",
    "    'type',\n",
    "    'true_duration',\n",
    "    'true_watch_part',\n",
    "    'rating',\n",
    "    'bookmark'\n",
    "])"
   ]
  },
  {
   "cell_type": "markdown",
   "metadata": {},
   "source": [
    "### StepDan evristic"
   ]
  },
  {
   "cell_type": "code",
   "execution_count": 25,
   "metadata": {},
   "outputs": [],
   "source": [
    "df = df.withColumn('rating', F.col('rating') + 1)"
   ]
  },
  {
   "cell_type": "code",
   "execution_count": 26,
   "metadata": {},
   "outputs": [],
   "source": [
    "user_rating_count = df.filter(df['rating'].isNotNull())\\\n",
    "                        .groupBy('user_uid').agg(F.count('rating').alias(\"rate_count\"),\n",
    "                                                 F.mean('rating').alias(\"rate_mean\"))"
   ]
  },
  {
   "cell_type": "code",
   "execution_count": 27,
   "metadata": {},
   "outputs": [
    {
     "name": "stdout",
     "output_type": "stream",
     "text": [
      "+--------+----------+-----------------+\n",
      "|user_uid|rate_count|        rate_mean|\n",
      "+--------+----------+-----------------+\n",
      "|  190265|        17|8.705882352941176|\n",
      "|  214945|         9|9.333333333333334|\n",
      "|  552277|         3|9.333333333333334|\n",
      "|   59652|        11|9.272727272727273|\n",
      "|   70962|         2|             10.0|\n",
      "+--------+----------+-----------------+\n",
      "only showing top 5 rows\n",
      "\n"
     ]
    }
   ],
   "source": [
    "user_rating_count.show(5)"
   ]
  },
  {
   "cell_type": "code",
   "execution_count": 28,
   "metadata": {},
   "outputs": [],
   "source": [
    "tmp_df = df.join(user_rating_count, on='user_uid', how='left')"
   ]
  },
  {
   "cell_type": "code",
   "execution_count": 29,
   "metadata": {},
   "outputs": [],
   "source": [
    "user_implicit = df.groupBy('user_uid').agg(F.mean('true_watch_part').alias('mean_implicit'))"
   ]
  },
  {
   "cell_type": "code",
   "execution_count": 30,
   "metadata": {},
   "outputs": [],
   "source": [
    "tmp_df = tmp_df.join(user_implicit, on='user_uid', how='left')"
   ]
  },
  {
   "cell_type": "code",
   "execution_count": 31,
   "metadata": {},
   "outputs": [],
   "source": [
    "tmp_df = tmp_df.withColumn('rate', F.when((tmp_df['rate_count'] >= 5) & (tmp_df['rating'].isNotNull()),\n",
    "                                         F.col('rating')/F.col('rate_mean') * F.col('mean_implicit'))\\\n",
    "                                   .otherwise(F.col('true_watch_part'))\n",
    "                                   \n",
    "                          )"
   ]
  },
  {
   "cell_type": "code",
   "execution_count": 30,
   "metadata": {},
   "outputs": [],
   "source": [
    "# cut off\n",
    "#tmp_df = tmp_df.withColumn('rate', F.when(tmp_df['rate'] > 1, 1).otherwise(F.col('rate')))"
   ]
  },
  {
   "cell_type": "code",
   "execution_count": 33,
   "metadata": {},
   "outputs": [
    {
     "name": "stdout",
     "output_type": "stream",
     "text": [
      "+--------+-----------+----------------+---+----+-------------+---------------+------+--------+----------+---------+-------------+----+\n",
      "|user_uid|element_uid|consumption_mode| ts|type|true_duration|true_watch_part|rating|bookmark|rate_count|rate_mean|mean_implicit|rate|\n",
      "+--------+-----------+----------------+---+----+-------------+---------------+------+--------+----------+---------+-------------+----+\n",
      "+--------+-----------+----------------+---+----+-------------+---------------+------+--------+----------+---------+-------------+----+\n",
      "\n"
     ]
    }
   ],
   "source": [
    "tmp_df.where(tmp_df['rate'].isNull()).show()"
   ]
  },
  {
   "cell_type": "code",
   "execution_count": 65,
   "metadata": {},
   "outputs": [
    {
     "name": "stdout",
     "output_type": "stream",
     "text": [
      "+-------+------------------+\n",
      "|summary|              rate|\n",
      "+-------+------------------+\n",
      "|  count|           9643012|\n",
      "|   mean|0.6197020692138338|\n",
      "| stddev|0.4004742401596306|\n",
      "|    min|               0.0|\n",
      "|    max|0.9954818185852431|\n",
      "+-------+------------------+\n",
      "\n"
     ]
    }
   ],
   "source": [
    "tmp_df.describe('rate').show()"
   ]
  },
  {
   "cell_type": "markdown",
   "metadata": {},
   "source": [
    "# parquet write"
   ]
  },
  {
   "cell_type": "code",
   "execution_count": 19,
   "metadata": {},
   "outputs": [],
   "source": [
    "#запись в файл\n",
    "default_cols = ['element_uid', 'user_uid', 'consumption_mode', 'ts', 'device_type', 'device_manufacturer', 'type',\n",
    "              'true_duration', 'true_watch_part']\n",
    "\n",
    "def write_to_prq(df, default_cols, path=\"../data/ratings_prq\"):\n",
    "    df.select(default_cols)\\\n",
    "        .repartition(100)\\\n",
    "        .write.parquet(path)"
   ]
  },
  {
   "cell_type": "code",
   "execution_count": 34,
   "metadata": {},
   "outputs": [],
   "source": [
    "!rm -rdf \"../data/StepDan_ratings_prq\""
   ]
  },
  {
   "cell_type": "code",
   "execution_count": 35,
   "metadata": {},
   "outputs": [],
   "source": [
    "#запись в файл\n",
    "need_cols = ['element_uid', 'user_uid', 'ts', 'rate']\n",
    "\n",
    "write_to_prq(tmp_df, need_cols, \"../data/StepDan_ratings_prq\")"
   ]
  },
  {
   "cell_type": "markdown",
   "metadata": {},
   "source": [
    "## Multiwatch"
   ]
  },
  {
   "cell_type": "code",
   "execution_count": 71,
   "metadata": {},
   "outputs": [
    {
     "name": "stdout",
     "output_type": "stream",
     "text": [
      "+-------+------------------+\n",
      "|summary|        watch_part|\n",
      "+-------+------------------+\n",
      "|  count|           2382961|\n",
      "|   mean|1.4906162821732925|\n",
      "| stddev| 1.750655670823487|\n",
      "|    min|1.0000793650793651|\n",
      "|    max|           509.647|\n",
      "+-------+------------------+\n",
      "\n"
     ]
    }
   ],
   "source": [
    "multiwatch_films.describe('watch_part').show()"
   ]
  },
  {
   "cell_type": "code",
   "execution_count": 72,
   "metadata": {},
   "outputs": [],
   "source": [
    "watch_times = multiwatch_films\\\n",
    "                .withColumn(\"watch_part_int\", multiwatch_films[\"watch_part\"].cast(IntegerType()))\\\n",
    "              .select('watch_part_int')\n"
   ]
  },
  {
   "cell_type": "code",
   "execution_count": 80,
   "metadata": {},
   "outputs": [
    {
     "name": "stdout",
     "output_type": "stream",
     "text": [
      "+--------------+---------------------+\n",
      "|watch_part_int|count(watch_part_int)|\n",
      "+--------------+---------------------+\n",
      "|             1|              2085586|\n",
      "|             2|               181542|\n",
      "|             3|                49994|\n",
      "|             4|                22066|\n",
      "|             5|                12255|\n",
      "|             6|                 7707|\n",
      "|             7|                 4977|\n",
      "|             8|                 4012|\n",
      "|             9|                 2854|\n",
      "|            10|                 1956|\n",
      "|            11|                 1523|\n",
      "|            12|                 1241|\n",
      "|            13|                  952|\n",
      "|            14|                  801|\n",
      "|            15|                  687|\n",
      "|            16|                  549|\n",
      "|            17|                  504|\n",
      "|            18|                  446|\n",
      "|            19|                  381|\n",
      "|            20|                  328|\n",
      "+--------------+---------------------+\n",
      "only showing top 20 rows\n",
      "\n"
     ]
    }
   ],
   "source": [
    "watch_times.groupBy('watch_part_int').agg(F.count('watch_part_int'))\\\n",
    "            .orderBy('count(watch_part_int)', ascending=False)\\\n",
    "            .show()"
   ]
  },
  {
   "cell_type": "code",
   "execution_count": null,
   "metadata": {},
   "outputs": [],
   "source": []
  }
 ],
 "metadata": {
  "kernelspec": {
   "display_name": "Python 3",
   "language": "python",
   "name": "python3"
  },
  "language_info": {
   "codemirror_mode": {
    "name": "ipython",
    "version": 3
   },
   "file_extension": ".py",
   "mimetype": "text/x-python",
   "name": "python",
   "nbconvert_exporter": "python",
   "pygments_lexer": "ipython3",
   "version": "3.7.6"
  }
 },
 "nbformat": 4,
 "nbformat_minor": 4
}
