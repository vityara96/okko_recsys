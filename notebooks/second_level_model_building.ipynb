{
 "cells": [
  {
   "cell_type": "code",
   "execution_count": 1,
   "metadata": {},
   "outputs": [],
   "source": [
    "import pandas as pd\n",
    "import numpy as np\n",
    "import os\n",
    "import sys\n",
    "import matplotlib.pyplot as plt\n",
    "import seaborn as sns\n",
    "import json\n",
    "import os\n",
    "import shutil"
   ]
  },
  {
   "cell_type": "code",
   "execution_count": 2,
   "metadata": {},
   "outputs": [],
   "source": [
    "from pyspark.sql import SparkSession\n",
    "from pyspark import SparkContext\n",
    "from pyspark.sql.functions import *\n",
    "from pyspark.sql.functions import udf\n",
    "from pyspark.ml.evaluation import RegressionEvaluator\n",
    "from pyspark.ml.recommendation import ALS\n",
    "from pyspark.sql.types import ArrayType, IntegerType, StructType, StructField, StringType\n",
    "from pyspark.sql import Window"
   ]
  },
  {
   "cell_type": "code",
   "execution_count": 3,
   "metadata": {},
   "outputs": [],
   "source": [
    "first_model_output_path = '../data/first_level_output_prq'\n",
    "train_als_path = \"../data/train_als\"\n",
    "train_cb_path = \"../data/train_cb\""
   ]
  },
  {
   "cell_type": "code",
   "execution_count": 4,
   "metadata": {},
   "outputs": [],
   "source": [
    "@udf(returnType=IntegerType())\n",
    "def NotEmpty(x):\n",
    "    if x == None:\n",
    "        return 0\n",
    "    elif len(x) == 0:\n",
    "        return 1\n",
    "    else:\n",
    "        return 2"
   ]
  },
  {
   "cell_type": "code",
   "execution_count": 5,
   "metadata": {},
   "outputs": [],
   "source": [
    "@udf(returnType=ArrayType(IntegerType()))\n",
    "def get_film_ids(arr):\n",
    "    return [x[0] for x in arr]"
   ]
  },
  {
   "cell_type": "code",
   "execution_count": 6,
   "metadata": {},
   "outputs": [],
   "source": [
    "spark = SparkSession.builder \\\n",
    "            .appName(\"DataPrepare\") \\\n",
    "            .getOrCreate()"
   ]
  },
  {
   "cell_type": "code",
   "execution_count": 7,
   "metadata": {},
   "outputs": [],
   "source": [
    "pred_df = spark.read.parquet(first_model_output_path)\n",
    "train_als = spark.read.parquet(train_als_path)\n",
    "train_cb = spark.read.parquet(train_cb_path)"
   ]
  },
  {
   "cell_type": "markdown",
   "metadata": {},
   "source": [
    "### Testing dataset"
   ]
  },
  {
   "cell_type": "code",
   "execution_count": 9,
   "metadata": {},
   "outputs": [],
   "source": [
    "pred_df = pred_df.withColumn(\"rec_films\", get_film_ids(col('recommendations')))\n",
    "\n",
    "user_watched_films = train_als.groupBy('user_id').agg(collect_list('item_id').alias('watched_films'))\n",
    "\n",
    "pred_df = pred_df.join(user_watched_films, on='user_id', how='left')\n",
    "\n",
    "pred_df = pred_df.withColumn('new_films', array_except('rec_films', 'watched_films'))\n",
    "\n",
    "user_future_films = train_cb.groupBy('user_id').agg(collect_list('item_id').alias('future_films'))\n",
    "\n",
    "pred_df = pred_df.join(user_future_films, on='user_id', how='left')\n",
    "\n",
    "rec_intersect = pred_df.select('user_id', array_intersect('new_films', 'future_films').alias('rec_intersection'))"
   ]
  },
  {
   "cell_type": "code",
   "execution_count": 10,
   "metadata": {},
   "outputs": [],
   "source": [
    "rec_intersect = rec_intersect.withColumn('intersection_len', NotEmpty('rec_intersection'))\n",
    "s = pred_df.count()"
   ]
  },
  {
   "cell_type": "code",
   "execution_count": 11,
   "metadata": {},
   "outputs": [
    {
     "name": "stdout",
     "output_type": "stream",
     "text": [
      "+----------------+-----------------+\n",
      "|intersection_len|            count|\n",
      "+----------------+-----------------+\n",
      "|               1|34.58149779735683|\n",
      "|               2|60.57268722466961|\n",
      "|               0|4.845814977973569|\n",
      "+----------------+-----------------+\n",
      "\n"
     ]
    }
   ],
   "source": [
    "rec_intersect.groupBy('intersection_len').count().withColumn('count', col('count')/s * 100).show()"
   ]
  },
  {
   "cell_type": "markdown",
   "metadata": {},
   "source": [
    "### Build dataset for second model"
   ]
  },
  {
   "cell_type": "code",
   "execution_count": 12,
   "metadata": {},
   "outputs": [],
   "source": [
    "train = pred_df.select('user_id',\n",
    "                       array_intersect('new_films', 'future_films').alias('positives'),\n",
    "                      array_except('new_films', 'future_films').alias('negatives'))"
   ]
  },
  {
   "cell_type": "code",
   "execution_count": 13,
   "metadata": {},
   "outputs": [],
   "source": [
    "train_negatives = train.select('user_id', explode(col('negatives')).alias('item_id'), lit(0).alias('target'))\n",
    "\n",
    "train_positives = train.select('user_id', explode(col('positives')).alias('item_id'), lit(1).alias('target'))\n",
    "\n",
    "train = train_positives.unionAll(train_negatives)"
   ]
  },
  {
   "cell_type": "code",
   "execution_count": 14,
   "metadata": {},
   "outputs": [
    {
     "name": "stdout",
     "output_type": "stream",
     "text": [
      "+-------+-------+------+\n",
      "|user_id|item_id|target|\n",
      "+-------+-------+------+\n",
      "|  36525|   7079|     1|\n",
      "|   8389|   7931|     1|\n",
      "|  78400|   2714|     1|\n",
      "|  78400|   3336|     1|\n",
      "|  51595|   1364|     1|\n",
      "|  40574|  10061|     1|\n",
      "|  46994|   8152|     1|\n",
      "|  84812|   1521|     1|\n",
      "|  61793|   3916|     1|\n",
      "|  74852|   1521|     1|\n",
      "|  74852|   4171|     1|\n",
      "|  43714|   9467|     1|\n",
      "|  43714|   3839|     1|\n",
      "|  32539|    402|     1|\n",
      "|  16339|     72|     1|\n",
      "|  96393|  10084|     1|\n",
      "|   2122|   1016|     1|\n",
      "|   2122|   5035|     1|\n",
      "|  70355|   7185|     1|\n",
      "|  70355|   3101|     1|\n",
      "+-------+-------+------+\n",
      "only showing top 20 rows\n",
      "\n"
     ]
    }
   ],
   "source": [
    "train.show()"
   ]
  },
  {
   "cell_type": "code",
   "execution_count": null,
   "metadata": {},
   "outputs": [],
   "source": []
  }
 ],
 "metadata": {
  "kernelspec": {
   "display_name": "Python 3",
   "language": "python",
   "name": "python3"
  },
  "language_info": {
   "codemirror_mode": {
    "name": "ipython",
    "version": 3
   },
   "file_extension": ".py",
   "mimetype": "text/x-python",
   "name": "python",
   "nbconvert_exporter": "python",
   "pygments_lexer": "ipython3",
   "version": "3.7.6"
  }
 },
 "nbformat": 4,
 "nbformat_minor": 4
}
