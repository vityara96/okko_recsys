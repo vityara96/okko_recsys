{
 "cells": [
  {
   "cell_type": "code",
   "execution_count": 1,
   "metadata": {},
   "outputs": [],
   "source": [
    "import pandas as pd\n",
    "import numpy as np\n",
    "import os\n",
    "import sys\n",
    "import matplotlib.pyplot as plt\n",
    "import seaborn as sns\n",
    "import json\n",
    "import os\n",
    "import shutil"
   ]
  },
  {
   "cell_type": "code",
   "execution_count": 2,
   "metadata": {},
   "outputs": [],
   "source": [
    "from pyspark.sql import SparkSession\n",
    "from pyspark import SparkContext\n",
    "from pyspark.sql.functions import *\n",
    "from pyspark.sql.functions import udf\n",
    "from pyspark.ml.evaluation import RegressionEvaluator\n",
    "from pyspark.ml.recommendation import ALS\n",
    "from pyspark.sql.types import ArrayType, IntegerType, StructType, StructField, StringType\n",
    "from pyspark.sql import Window"
   ]
  },
  {
   "cell_type": "code",
   "execution_count": 3,
   "metadata": {},
   "outputs": [],
   "source": [
    "transactions_data_path = \"../data/transactions.csv\"\n",
    "catalogue_path = \"../data/catalogue.json\"\n",
    "test_path = \"../data/test_users.json\"\n",
    "ratings_path = \"../data/StepDan_ratings_prq\""
   ]
  },
  {
   "cell_type": "code",
   "execution_count": 4,
   "metadata": {},
   "outputs": [],
   "source": [
    "spark = SparkSession.builder \\\n",
    "            .appName(\"OkkoRecSystem\") \\\n",
    "            .getOrCreate()"
   ]
  },
  {
   "cell_type": "code",
   "execution_count": 5,
   "metadata": {},
   "outputs": [],
   "source": [
    "df = spark.read.parquet(ratings_path)"
   ]
  },
  {
   "cell_type": "code",
   "execution_count": 6,
   "metadata": {},
   "outputs": [],
   "source": [
    "userCol = 'user_uid'\n",
    "itemCol = 'element_uid'\n",
    "ratingCol = 'rate'\n",
    "\n",
    "\n",
    "df = df.withColumnRenamed(itemCol, 'item_id')\\\n",
    "        .withColumnRenamed(ratingCol, 'rate')\\\n",
    "        .withColumnRenamed(userCol, 'user_id')"
   ]
  },
  {
   "cell_type": "code",
   "execution_count": 7,
   "metadata": {},
   "outputs": [],
   "source": [
    "rating_df = df"
   ]
  },
  {
   "cell_type": "markdown",
   "metadata": {},
   "source": [
    "rating_df = rating_df.withColumn(\"rate\", col(\"rate\").cast('int'))\\\n",
    "                    .withColumn(\"user_id\", col(\"user_id\").cast('int'))\\\n",
    "                    .withColumn(\"item_id\", col(\"item_id\").cast('int'))"
   ]
  },
  {
   "cell_type": "code",
   "execution_count": 8,
   "metadata": {},
   "outputs": [],
   "source": [
    "rating_df = rating_df.withColumn(\"user_id\", col(\"user_id\").cast('int'))\\\n",
    "                    .withColumn(\"item_id\", col(\"item_id\").cast('int'))"
   ]
  },
  {
   "cell_type": "code",
   "execution_count": 9,
   "metadata": {},
   "outputs": [],
   "source": [
    "film_cnt = rating_df.groupBy('user_id').count()\\\n",
    "            .withColumn('enough_films', col('count') >= 3)"
   ]
  },
  {
   "cell_type": "code",
   "execution_count": 10,
   "metadata": {},
   "outputs": [],
   "source": [
    "rating_df = rating_df.join(film_cnt, on='user_id', how='left')\\\n",
    "            .where(col('enough_films') == True)"
   ]
  },
  {
   "cell_type": "markdown",
   "metadata": {},
   "source": [
    "### First level model building"
   ]
  },
  {
   "cell_type": "code",
   "execution_count": 11,
   "metadata": {},
   "outputs": [],
   "source": [
    "als = ALS(maxIter=10, regParam=0.01, userCol=\"user_id\", itemCol=\"item_id\", ratingCol=\"rate\",\n",
    "          coldStartStrategy=\"drop\", implicitPrefs=True)\n",
    "\n",
    "model = als.fit(rating_df)"
   ]
  },
  {
   "cell_type": "code",
   "execution_count": 12,
   "metadata": {},
   "outputs": [],
   "source": [
    "@udf(returnType=ArrayType(IntegerType()))\n",
    "def get_film_ids(arr):\n",
    "    return [x[0] for x in arr]"
   ]
  },
  {
   "cell_type": "markdown",
   "metadata": {},
   "source": [
    "### Test on boosters"
   ]
  },
  {
   "cell_type": "code",
   "execution_count": 13,
   "metadata": {},
   "outputs": [],
   "source": [
    "!rm -f '../data/answerStepDan3.json'"
   ]
  },
  {
   "cell_type": "code",
   "execution_count": 14,
   "metadata": {},
   "outputs": [],
   "source": [
    "with open(test_path, \"r\") as f:\n",
    "    test = json.load(f)\n",
    "\n",
    "cSchema = StructType([StructField('user_id', IntegerType(), False)])\n",
    "\n",
    "test_users = list(map(lambda x: [x], test['users']))\n",
    "\n",
    "test_df = spark.createDataFrame(test_users, schema=cSchema)\n",
    "\n",
    "ans = model.recommendForUserSubset(test_df, 20)\n",
    "\n",
    "ans = ans.select(col('user_id').cast(StringType()).alias('user_id'),\n",
    "                 get_film_ids(col('recommendations')).alias('reccomendations'))\n",
    "\n",
    "ans_df = ans.toPandas()\n",
    "\n",
    "result = {}\n",
    "\n",
    "for i in range(ans_df.shape[0]):\n",
    "    result[ans_df.loc[i, 'user_id']] = ans_df.loc[i, 'reccomendations']\n",
    "\n",
    "ans_df.index = ans_df.user_id\n",
    "\n",
    "a = ans_df.reccomendations.to_json(orient = 'index', force_ascii=False)\n",
    "\n",
    "with open('../data/answerStepDan3.json', \"w\") as f:\n",
    "    json.dump(result, f)"
   ]
  }
 ],
 "metadata": {
  "kernelspec": {
   "display_name": "Python 3",
   "language": "python",
   "name": "python3"
  },
  "language_info": {
   "codemirror_mode": {
    "name": "ipython",
    "version": 3
   },
   "file_extension": ".py",
   "mimetype": "text/x-python",
   "name": "python",
   "nbconvert_exporter": "python",
   "pygments_lexer": "ipython3",
   "version": "3.7.6"
  }
 },
 "nbformat": 4,
 "nbformat_minor": 4
}
